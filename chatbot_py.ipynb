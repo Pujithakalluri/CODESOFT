{
  "nbformat": 4,
  "nbformat_minor": 0,
  "metadata": {
    "colab": {
      "provenance": [],
      "authorship_tag": "ABX9TyM0HjF48IIModk+4XQl5HNX",
      "include_colab_link": true
    },
    "kernelspec": {
      "name": "python3",
      "display_name": "Python 3"
    },
    "language_info": {
      "name": "python"
    }
  },
  "cells": [
    {
      "cell_type": "markdown",
      "metadata": {
        "id": "view-in-github",
        "colab_type": "text"
      },
      "source": [
        "<a href=\"https://colab.research.google.com/github/Pujithakalluri/CODSOFT/blob/main/chatbot_py.ipynb\" target=\"_parent\"><img src=\"https://colab.research.google.com/assets/colab-badge.svg\" alt=\"Open In Colab\"/></a>"
      ]
    },
    {
      "cell_type": "code",
      "execution_count": null,
      "metadata": {
        "colab": {
          "base_uri": "https://localhost:8080/"
        },
        "id": "UYS-ISlCEUx8",
        "outputId": "b5a56436-f846-4c5a-b83a-b58b61fb3b4c"
      },
      "outputs": [
        {
          "output_type": "stream",
          "name": "stdout",
          "text": [
            "Chatbot: Hello! What's your name>\n"
          ]
        }
      ],
      "source": [
        "import re\n",
        "\n",
        "greeting_patterns = [\n",
        "    r\"hi|hello|hey|hoedy\",\n",
        "    r\"what's up|sup\",\n",
        "]\n",
        "\n",
        "greeting_responses = [\n",
        "    \"Hello! How can I assist you today?\",\n",
        "    \"Hi there! How can I help?\",\n",
        "]\n",
        "\n",
        "name_patterns = [\n",
        "    r\"my name is (\\w+)\",\n",
        "    r\"i am (\\w+)\",\n",
        "]\n",
        "\n",
        "name_responses = [\n",
        "    \"Nice to meet you, {}!\",\n",
        "    \"Hello, {}! How can I assist you?\",\n",
        "]\n",
        "\n",
        "default_response = \"I'm not sure how to respond to that. Please ask something else.\"\n",
        "\n",
        "def chatbot_response(user_input):\n",
        "    for pattern, response in zip(name_patterns, name_responses):\n",
        "        match = re.search(pattern, user_input, re.IGNORECASE)\n",
        "        if match:\n",
        "            name = match.group(1)\n",
        "            return response.format(name)\n",
        "\n",
        "    for pattern, response in zip(greeting_patterns, greeting_responses):\n",
        "        if re.search(pattern, user_input, re.IGNORECASE):\n",
        "            return response\n",
        "\n",
        "    return default_response\n",
        "\n",
        "print(\"Chatbot: Hello! What's your name>\")\n",
        "while True:\n",
        "    user_input = input(\"You: \")\n",
        "    if user_input.lower() == 'exit':\n",
        "        print(\"Chatbot: Goodbye!\")\n",
        "        break\n",
        "    response = chatbot_response(user_input)\n",
        "    print(\"Chatbot:\",response)"
      ]
    }
  ]
}